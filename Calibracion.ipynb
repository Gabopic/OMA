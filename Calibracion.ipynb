{
 "cells": [
  {
   "cell_type": "code",
   "execution_count": 1,
   "id": "f460b86c-67a3-49e7-add1-37f50671278a",
   "metadata": {},
   "outputs": [],
   "source": [
    "from photutils.segmentation import (SourceCatalog, deblend_sources, detect_sources, detect_threshold)\n",
    "from astropy.io import fits\n",
    "from matplotlib import pyplot as plt\n",
    "import numpy as np"
   ]
  },
  {
   "cell_type": "code",
   "execution_count": 2,
   "id": "a567add3-7fcd-4ff8-80e0-35ac8bdd22bc",
   "metadata": {},
   "outputs": [],
   "source": [
    "def detection(fit,nsigma=5,npixels=50):\n",
    "    \"\"\"Función para extraer los datos y el header de la imagen y hacer la detección de fuentes\n",
    "    con Photutils\"\"\"\n",
    "    data=fits.open(f\"{fit}\")[0].data\n",
    "    header=fits.open(f\"{fit}\")[0].header\n",
    "    threshold=detect_threshold(data, nsigma)\n",
    "    source_list=detect_sources(data, threshold, npixels)\n",
    "    return source_list, data, header"
   ]
  },
  {
   "cell_type": "code",
   "execution_count": 3,
   "id": "52d1c3e9-4389-4ca9-94b7-af68d350ebd4",
   "metadata": {},
   "outputs": [],
   "source": [
    "def calibration(fit, reference, nsigma=5, npixels=50):\n",
    "    \"\"\"Función para hacer la calibración fotométrica en un fits específico, \n",
    "    necesita la magnitud de referencia correspondiente al filtro para calcular el zeropoint\"\"\"\n",
    "    sources, data, header=detection(fit,nsigma,npixels)\n",
    "    #Se genera el catálogo y se pasa a tabla\n",
    "    cat=SourceCatalog(data, sources)\n",
    "    tbl=cat.to_table()\n",
    "    \n",
    "    #Filtramos las columnas que necesitamos y dividimos el flujo por el\n",
    "    #tiempo de exposición\n",
    "    tabla=tbl['label', 'xcentroid', 'ycentroid', 'area', 'segment_flux']\n",
    "    tabla['segment_flux'] = tabla['segment_flux']/header['EXPTIME']\n",
    "    \n",
    "    #Buscamos nuestra fuente a calibrar (en este caso por tamaño) y \n",
    "    #obtenemos su flujo\n",
    "    estrella_index=np.argmax(tabla['area'])\n",
    "    flux_estrella=tabla['segment_flux'][estrella_index]\n",
    "    \n",
    "    #Calculamos la magnitud medida y el zeropoint,\n",
    "    #finalmente obtenemos las magnitudes calibradas para este fits\n",
    "    mag_medida=-2.5*np.log(flux_estrella)\n",
    "    zeropoint = reference - mag_medida\n",
    "    tabla['magnitude'] = zeropoint - 2.5*np.log(tabla['segment_flux'])\n",
    "    return tabla"
   ]
  },
  {
   "cell_type": "code",
   "execution_count": 7,
   "id": "4acfc306-9d63-4fca-8da4-2819fea8e702",
   "metadata": {
    "tags": []
   },
   "outputs": [
    {
     "data": {
      "image/png": "[encoded data removed]",
      "text/plain": [
       "<Figure size 720x720 with 1 Axes>"
      ]
     },
     "metadata": {
      "needs_background": "light"
     },
     "output_type": "display_data"
    }
   ],
   "source": [
    "#Gráficas\n",
    "sour,data,header=detection(\"HIP_64951_V_2.000secs_00001043.fit\")\n",
    "cmap_sour = sour.make_cmap(seed=123)\n",
    "fig, ax = plt.subplots(1, 1, figsize=(10,10))\n",
    "ax.imshow(sour, origin='lower', cmap=cmap_sour, interpolation='nearest')\n",
    "plt.show()"
   ]
  },
  {
   "cell_type": "code",
   "execution_count": 4,
   "id": "89b189aa-2546-4d22-825e-be1916a95b15",
   "metadata": {},
   "outputs": [],
   "source": [
    "#Ejemplo\n",
    "tbl= calibration(\"HIP_64951_V_2.000secs_00001043.fit\", 7)"
   ]
  },
  {
   "cell_type": "code",
   "execution_count": 5,
   "id": "b565fc75-21bc-48be-9ed0-c2c80d70fbea",
   "metadata": {},
   "outputs": [
    {
     "data": {
      "text/html": [
       "<div><i>QTable length=13</i>\n",
       "<table id=\"table140371186972800\" class=\"table-striped table-bordered table-condensed\">\n",
       "<thead><tr><th>label</th><th>xcentroid</th><th>ycentroid</th><th>area</th><th>segment_flux</th><th>magnitude</th></tr></thead>\n",
       "<thead><tr><th></th><th></th><th></th><th>pix2</th><th></th><th></th></tr></thead>\n",
       "<thead><tr><th>int64</th><th>float64</th><th>float64</th><th>float64</th><th>float64</th><th>float64</th></tr></thead>\n",
       "<tr><td>1</td><td>2204.489076026147</td><td>467.6627407102055</td><td>136.0</td><td>8490.5</td><td>19.649046398220776</td></tr>\n",
       "<tr><td>2</td><td>414.0171685332976</td><td>1484.8267051170276</td><td>122.0</td><td>7455.5</td><td>19.974036089109262</td></tr>\n",
       "<tr><td>3</td><td>1738.325727683422</td><td>1618.4944244295762</td><td>138.0</td><td>8743.5</td><td>19.575639708802385</td></tr>\n",
       "<tr><td>4</td><td>50.89545454545454</td><td>1892.0685002895193</td><td>247.0</td><td>17270.0</td><td>17.873988896334858</td></tr>\n",
       "<tr><td>5</td><td>2058.1370585833997</td><td>2055.0689134004033</td><td>2316.0</td><td>1337512.0</td><td>6.999999999999993</td></tr>\n",
       "<tr><td>6</td><td>335.88551080754655</td><td>2136.640289867144</td><td>183.0</td><td>12005.5</td><td>18.783003931434592</td></tr>\n",
       "<tr><td>7</td><td>147.03842703349284</td><td>2375.0459031100477</td><td>55.0</td><td>3344.0</td><td>21.97849688867519</td></tr>\n",
       "<tr><td>8</td><td>2398.8178085040026</td><td>2561.219617423849</td><td>150.0</td><td>9619.0</td><td>19.337065353805126</td></tr>\n",
       "<tr><td>9</td><td>2617.4238831251323</td><td>3083.4744865551556</td><td>78.0</td><td>4723.0</td><td>21.115305649446373</td></tr>\n",
       "<tr><td>10</td><td>417.1180926362846</td><td>3169.749658512356</td><td>66.0</td><td>4026.5</td><td>21.51417234609767</td></tr>\n",
       "<tr><td>11</td><td>2997.0524837185544</td><td>3223.526369556889</td><td>63.0</td><td>3915.5</td><td>21.58405853870919</td></tr>\n",
       "<tr><td>12</td><td>742.6941564475866</td><td>3249.7482006523205</td><td>333.0</td><td>27440.5</td><td>16.716366066066282</td></tr>\n",
       "<tr><td>13</td><td>2433.493041387351</td><td>3975.4466992130574</td><td>203.0</td><td>13724.0</td><td>18.448550814240818</td></tr>\n",
       "</table></div>"
      ],
      "text/plain": [
       "<QTable length=13>\n",
       "label     xcentroid          ycentroid      ... segment_flux     magnitude     \n",
       "                                            ...                                \n",
       "int64      float64            float64       ...   float64         float64      \n",
       "----- ------------------ ------------------ ... ------------ ------------------\n",
       "    1  2204.489076026147  467.6627407102055 ...       8490.5 19.649046398220776\n",
       "    2  414.0171685332976 1484.8267051170276 ...       7455.5 19.974036089109262\n",
       "    3  1738.325727683422 1618.4944244295762 ...       8743.5 19.575639708802385\n",
       "    4  50.89545454545454 1892.0685002895193 ...      17270.0 17.873988896334858\n",
       "    5 2058.1370585833997 2055.0689134004033 ...    1337512.0  6.999999999999993\n",
       "    6 335.88551080754655  2136.640289867144 ...      12005.5 18.783003931434592\n",
       "    7 147.03842703349284 2375.0459031100477 ...       3344.0  21.97849688867519\n",
       "    8 2398.8178085040026  2561.219617423849 ...       9619.0 19.337065353805126\n",
       "    9 2617.4238831251323 3083.4744865551556 ...       4723.0 21.115305649446373\n",
       "   10  417.1180926362846  3169.749658512356 ...       4026.5  21.51417234609767\n",
       "   11 2997.0524837185544  3223.526369556889 ...       3915.5  21.58405853870919\n",
       "   12  742.6941564475866 3249.7482006523205 ...      27440.5 16.716366066066282\n",
       "   13  2433.493041387351 3975.4466992130574 ...      13724.0 18.448550814240818"
      ]
     },
     "execution_count": 5,
     "metadata": {},
     "output_type": "execute_result"
    }
   ],
   "source": [
    "tbl"
   ]
  }
 ],
 "metadata": {
  "kernelspec": {
   "display_name": "Python 3 (ipykernel)",
   "language": "python",
   "name": "python3"
  },
  "language_info": {
   "codemirror_mode": {
    "name": "ipython",
    "version": 3
   },
   "file_extension": ".py",
   "mimetype": "text/x-python",
   "name": "python",
   "nbconvert_exporter": "python",
   "pygments_lexer": "ipython3",
   "version": "3.9.7"
  }
 },
 "nbformat": 4,
 "nbformat_minor": 5
}
